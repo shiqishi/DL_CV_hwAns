{
 "cells": [
  {
   "cell_type": "markdown",
   "metadata": {},
   "source": [
    "# 作業\n",
    "\n",
    "實作模糊與邊緣檢測\n",
    "\n",
    "- 透過 Gaussian Filter 實作模糊操作\n",
    "- 透過 Sobel Filter 實作邊緣檢測"
   ]
  },
  {
   "cell_type": "code",
   "execution_count": 1,
   "metadata": {},
   "outputs": [],
   "source": [
    "import cv2\n",
    "import numpy as np\n",
    "\n",
    "img = cv2.imread('data/lena.png')"
   ]
  },
  {
   "cell_type": "markdown",
   "metadata": {},
   "source": [
    "## 邊緣檢測"
   ]
  },
  {
   "cell_type": "markdown",
   "metadata": {},
   "source": [
    "### 比較 Sobel 如果在 uint8 的情況下做會 overflow 的狀況"
   ]
  },
  {
   "cell_type": "code",
   "execution_count": 2,
   "metadata": {},
   "outputs": [],
   "source": [
    "# 轉為灰階圖片\n",
    "img_grey = cv2.cvtColor(img, cv2.COLOR_BGR2GRAY)\n",
    "\n",
    "# 對 x 方向以包含負數的資料格式 (cv2.CV_16S) 進行 Sobel 邊緣檢測\n",
    "img_sobel_x = cv2.Sobel(img_grey, cv2.CV_16S, dx=1, dy=0, ksize=3)\n",
    "# 對 x 方向依照比例縮放到所有數值都是非負整數\n",
    "img_sobel_x = cv2.convertScaleAbs(img_sobel_x)\n",
    "\n",
    "# 對 x 方向直接以非負整數的資料格式 (uint8) 進行 Sobel 邊緣檢測\n",
    "# CV_8U,CV_16U,CV_16S,CV_32S,CV_32F,CV_64F\n",
    "img_sobel_x_uint8 = cv2.Sobel(img_grey, -1 , dx=1, dy=0, ksize=3)\n",
    "\n",
    "#　組合 + 顯示圖片\n",
    "img_show = np.hstack((img_grey, img_sobel_x, img_sobel_x_uint8))\n",
    "while True:\n",
    "    # 比較 Sobel 邊緣檢測的過程中針對負數操作的不同產生的差異\n",
    "    cv2.imshow('Edge Detection', img_show)\n",
    "    k = cv2.waitKey(0)\n",
    "    if k == 27:\n",
    "        cv2.destroyAllWindows()\n",
    "        break"
   ]
  },
  {
   "cell_type": "markdown",
   "metadata": {},
   "source": [
    "### 比較一次與兩次計算偏微分的結果"
   ]
  },
  {
   "cell_type": "code",
   "execution_count": 3,
   "metadata": {},
   "outputs": [],
   "source": [
    "img_grey = cv2.cvtColor(img, cv2.COLOR_BGR2GRAY)\n",
    "\n",
    "# 求一次導數取得邊緣檢測結果\n",
    "img_sobel_x = cv2.Sobel(img_grey, cv2.CV_16S, dx=1, dy=0, ksize=3)\n",
    "img_sobel_x = cv2.convertScaleAbs(img_sobel_x)\n",
    "\n",
    "# 求二次導數取得邊緣檢測結果\n",
    "img_sobel_xx = cv2.Sobel(img_grey, cv2.CV_16S, dx=2, dy=0, ksize=3)\n",
    "img_sobel_xx = cv2.convertScaleAbs(img_sobel_xx)\n",
    "\n",
    "#　組合 + 顯示圖片\n",
    "img_show = np.hstack((img_grey, img_sobel_x, img_sobel_xx))\n",
    "while True:\n",
    "    cv2.imshow('Edge Detection', img_show)\n",
    "    k = cv2.waitKey(0)\n",
    "    if k == 27:\n",
    "        cv2.destroyAllWindows()\n",
    "        break"
   ]
  },
  {
   "cell_type": "markdown",
   "metadata": {},
   "source": [
    "## 取得 SIFT 特徵\n",
    "#### pip install opencv-contrib-python==3.4.2.16"
   ]
  },
  {
   "cell_type": "code",
   "execution_count": 4,
   "metadata": {},
   "outputs": [],
   "source": [
    "# 轉灰階圖片\n",
    "img_gray = cv2.cvtColor(img, cv2.COLOR_BGR2GRAY)\n",
    "\n",
    "# 建立 SIFT 物件\n",
    "SIFT_detector = cv2.xfeatures2d.SIFT_create()\n",
    "\n",
    "# 取得 SIFT 關鍵點位置\n",
    "keypoints = SIFT_detector.detect(img_gray, None)\n",
    "\n",
    "#　畫圖 + 顯示圖片\n",
    "img_show = cv2.drawKeypoints(img_gray, keypoints, img)\n",
    "while True:\n",
    "    cv2.imshow('SIFT', img_show)\n",
    "    k = cv2.waitKey(0)\n",
    "    if k == 27:\n",
    "        cv2.destroyAllWindows()\n",
    "        break"
   ]
  },
  {
   "cell_type": "code",
   "execution_count": 14,
   "metadata": {
    "collapsed": true
   },
   "outputs": [
    {
     "data": {
      "text/plain": [
       "array([[ 20.486666,  74.56659 ],\n",
       "       [ 20.486666,  74.56659 ],\n",
       "       [ 61.064926, 496.00064 ],\n",
       "       ...,\n",
       "       [495.12134 ,  11.863521],\n",
       "       [495.80933 ,  79.96113 ],\n",
       "       [495.80933 ,  79.96113 ]], dtype=float32)"
      ]
     },
     "execution_count": 14,
     "metadata": {},
     "output_type": "execute_result"
    }
   ],
   "source": [
    "# 将KeyPoint格式数据中的xy坐标提取出来\n",
    "cv2.KeyPoint_convert(keypoints)"
   ]
  },
  {
   "cell_type": "markdown",
   "metadata": {},
   "source": [
    "## 基於 SIFT 特徵的暴力比對\n",
    "\n",
    "- 透過 SIFT 特徵實作 Brute-Force Matching\n",
    "- D.Lowe ratio test\n",
    "- knn 比對"
   ]
  },
  {
   "cell_type": "code",
   "execution_count": 10,
   "metadata": {},
   "outputs": [],
   "source": [
    "img_query = cv2.imread('data/box.png', 0)\n",
    "img_train = cv2.imread('data/box_in_scene.png', 0)\n",
    "\n",
    "# 建立 SIFT 物件\n",
    "sift = cv2.xfeatures2d_SIFT.create() # SURF,ORB, BRIEF,BRISK\n",
    "#sift=cv2.ORB.create()\n",
    "\n",
    "# 偵測並計算 SIFT 特徵 (keypoints 關鍵點, descriptor 128 維敘述子)\n",
    "kp_query, des_query = sift.detectAndCompute(img_query, None)\n",
    "kp_train, des_train = sift.detectAndCompute(img_train, None)\n",
    "\n",
    "# 建立 Brute-Force Matching 物件\n",
    "bf = cv2.BFMatcher(cv2.NORM_L2)  # cv2.NORM_L1,cv2.NORM_HAMMING,cv2.NORM_HAMMING2\n",
    "#bf = cv2.BFMatcher(cv2.NORM_HAMMING)\n",
    "\n",
    "# 以 knn 方式暴力比對特徵\n",
    "matches_knn = bf.knnMatch(des_query, des_train, k=2)\n",
    "matches = bf.match(des_query,des_train)\n",
    "\n",
    "# 透過 D.Lowe ratio test 排除不適合的配對\n",
    "candidate_knn = []\n",
    "for m, n in matches_knn:\n",
    "    if m.distance < 0.7*n.distance:\n",
    "        candidate_knn.append([m])\n",
    "matches=sorted(matches,key=lambda x:x.distance)\n",
    "candidate=matches[:len(candidate_knn)]\n",
    "\n",
    "# 顯示配對結果\n",
    "img_show_knn = cv2.drawMatchesKnn(img_query, kp_query, img_train, kp_train, candidate_knn, None, flags=2)\n",
    "img_show = cv2.drawMatches(img_query, kp_query, img_train, kp_train, candidate, None, flags=2)\n",
    "img_show=np.vstack((img_show_knn,img_show))\n",
    "# 顯示圖片\n",
    "while True:\n",
    "    cv2.imshow('matches', img_show)\n",
    "    k = cv2.waitKey(0)\n",
    "    if k == 27:\n",
    "        cv2.destroyAllWindows()\n",
    "        break"
   ]
  },
  {
   "cell_type": "code",
   "execution_count": null,
   "metadata": {},
   "outputs": [],
   "source": []
  }
 ],
 "metadata": {
  "kernelspec": {
   "display_name": "Python 3",
   "language": "python",
   "name": "python3"
  },
  "language_info": {
   "codemirror_mode": {
    "name": "ipython",
    "version": 3
   },
   "file_extension": ".py",
   "mimetype": "text/x-python",
   "name": "python",
   "nbconvert_exporter": "python",
   "pygments_lexer": "ipython3",
   "version": "3.7.6"
  }
 },
 "nbformat": 4,
 "nbformat_minor": 2
}
